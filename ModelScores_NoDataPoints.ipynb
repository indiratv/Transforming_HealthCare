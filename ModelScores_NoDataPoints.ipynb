{
 "cells": [
  {
   "cell_type": "code",
   "execution_count": 1,
   "metadata": {},
   "outputs": [],
   "source": [
    "import pandas as pd\n",
    "from collections import OrderedDict\n",
    "import matplotlib.pyplot as plt"
   ]
  },
  {
   "cell_type": "code",
   "execution_count": 2,
   "metadata": {},
   "outputs": [],
   "source": [
    "# Create a pandas dataframe from six ML model scores for various dataset sizes\n",
    "model_summary = OrderedDict([ ('Model', ['LR', 'LDA', 'KNN', 'CART', 'NB', 'SVM']),\n",
    "          ('records43400', [0.981740, 0.976354, 0.980789, 0.963393, 0.914487,0.981653 ]),\n",
    "          ('records3260',  [0.968949, 0.960514, 0.968183,0.937878,0.888429,0.969332 ]),\n",
    "          ('records433', [0.852689, 0.846807, 0.855882,0.785714,0.840756,0.818151])] )\n",
    "\n",
    "df = pd.DataFrame.from_dict(model_summary)"
   ]
  },
  {
   "cell_type": "code",
   "execution_count": 3,
   "metadata": {},
   "outputs": [
    {
     "data": {
      "text/html": [
       "<div>\n",
       "<style>\n",
       "    .dataframe thead tr:only-child th {\n",
       "        text-align: right;\n",
       "    }\n",
       "\n",
       "    .dataframe thead th {\n",
       "        text-align: left;\n",
       "    }\n",
       "\n",
       "    .dataframe tbody tr th {\n",
       "        vertical-align: top;\n",
       "    }\n",
       "</style>\n",
       "<table border=\"1\" class=\"dataframe\">\n",
       "  <thead>\n",
       "    <tr style=\"text-align: right;\">\n",
       "      <th></th>\n",
       "      <th>Model</th>\n",
       "      <th>records43400</th>\n",
       "      <th>records3260</th>\n",
       "      <th>records433</th>\n",
       "    </tr>\n",
       "  </thead>\n",
       "  <tbody>\n",
       "    <tr>\n",
       "      <th>0</th>\n",
       "      <td>LR</td>\n",
       "      <td>0.981740</td>\n",
       "      <td>0.968949</td>\n",
       "      <td>0.852689</td>\n",
       "    </tr>\n",
       "    <tr>\n",
       "      <th>1</th>\n",
       "      <td>LDA</td>\n",
       "      <td>0.976354</td>\n",
       "      <td>0.960514</td>\n",
       "      <td>0.846807</td>\n",
       "    </tr>\n",
       "    <tr>\n",
       "      <th>2</th>\n",
       "      <td>KNN</td>\n",
       "      <td>0.980789</td>\n",
       "      <td>0.968183</td>\n",
       "      <td>0.855882</td>\n",
       "    </tr>\n",
       "    <tr>\n",
       "      <th>3</th>\n",
       "      <td>CART</td>\n",
       "      <td>0.963393</td>\n",
       "      <td>0.937878</td>\n",
       "      <td>0.785714</td>\n",
       "    </tr>\n",
       "    <tr>\n",
       "      <th>4</th>\n",
       "      <td>NB</td>\n",
       "      <td>0.914487</td>\n",
       "      <td>0.888429</td>\n",
       "      <td>0.840756</td>\n",
       "    </tr>\n",
       "  </tbody>\n",
       "</table>\n",
       "</div>"
      ],
      "text/plain": [
       "  Model  records43400  records3260  records433\n",
       "0    LR      0.981740     0.968949    0.852689\n",
       "1   LDA      0.976354     0.960514    0.846807\n",
       "2   KNN      0.980789     0.968183    0.855882\n",
       "3  CART      0.963393     0.937878    0.785714\n",
       "4    NB      0.914487     0.888429    0.840756"
      ]
     },
     "execution_count": 3,
     "metadata": {},
     "output_type": "execute_result"
    }
   ],
   "source": [
    "# Display the created dataframe\n",
    "df.head()"
   ]
  },
  {
   "cell_type": "code",
   "execution_count": 4,
   "metadata": {},
   "outputs": [
    {
     "data": {
      "text/html": [
       "<div>\n",
       "<style>\n",
       "    .dataframe thead tr:only-child th {\n",
       "        text-align: right;\n",
       "    }\n",
       "\n",
       "    .dataframe thead th {\n",
       "        text-align: left;\n",
       "    }\n",
       "\n",
       "    .dataframe tbody tr th {\n",
       "        vertical-align: top;\n",
       "    }\n",
       "</style>\n",
       "<table border=\"1\" class=\"dataframe\">\n",
       "  <thead>\n",
       "    <tr style=\"text-align: right;\">\n",
       "      <th></th>\n",
       "      <th>records43400</th>\n",
       "      <th>records3260</th>\n",
       "      <th>records433</th>\n",
       "    </tr>\n",
       "    <tr>\n",
       "      <th>Model</th>\n",
       "      <th></th>\n",
       "      <th></th>\n",
       "      <th></th>\n",
       "    </tr>\n",
       "  </thead>\n",
       "  <tbody>\n",
       "    <tr>\n",
       "      <th>LR</th>\n",
       "      <td>0.981740</td>\n",
       "      <td>0.968949</td>\n",
       "      <td>0.852689</td>\n",
       "    </tr>\n",
       "    <tr>\n",
       "      <th>LDA</th>\n",
       "      <td>0.976354</td>\n",
       "      <td>0.960514</td>\n",
       "      <td>0.846807</td>\n",
       "    </tr>\n",
       "    <tr>\n",
       "      <th>KNN</th>\n",
       "      <td>0.980789</td>\n",
       "      <td>0.968183</td>\n",
       "      <td>0.855882</td>\n",
       "    </tr>\n",
       "    <tr>\n",
       "      <th>CART</th>\n",
       "      <td>0.963393</td>\n",
       "      <td>0.937878</td>\n",
       "      <td>0.785714</td>\n",
       "    </tr>\n",
       "    <tr>\n",
       "      <th>NB</th>\n",
       "      <td>0.914487</td>\n",
       "      <td>0.888429</td>\n",
       "      <td>0.840756</td>\n",
       "    </tr>\n",
       "    <tr>\n",
       "      <th>SVM</th>\n",
       "      <td>0.981653</td>\n",
       "      <td>0.969332</td>\n",
       "      <td>0.818151</td>\n",
       "    </tr>\n",
       "  </tbody>\n",
       "</table>\n",
       "</div>"
      ],
      "text/plain": [
       "       records43400  records3260  records433\n",
       "Model                                       \n",
       "LR         0.981740     0.968949    0.852689\n",
       "LDA        0.976354     0.960514    0.846807\n",
       "KNN        0.980789     0.968183    0.855882\n",
       "CART       0.963393     0.937878    0.785714\n",
       "NB         0.914487     0.888429    0.840756\n",
       "SVM        0.981653     0.969332    0.818151"
      ]
     },
     "execution_count": 4,
     "metadata": {},
     "output_type": "execute_result"
    }
   ],
   "source": [
    "# Covert Model column to index column\n",
    "indexed_df = df.set_index(['Model'])\n",
    "\n",
    "indexed_df.head(6)"
   ]
  },
  {
   "cell_type": "code",
   "execution_count": 7,
   "metadata": {},
   "outputs": [
    {
     "data": {
      "text/plain": [
       "<matplotlib.figure.Figure at 0x288bb5e61d0>"
      ]
     },
     "metadata": {},
     "output_type": "display_data"
    },
    {
     "data": {
      "image/png": "[encoded data removed]",
      "text/plain": [
       "<matplotlib.figure.Figure at 0x288bb5dfcc0>"
      ]
     },
     "metadata": {},
     "output_type": "display_data"
    }
   ],
   "source": [
    "# Plot scores for dataset of varying sizes\n",
    "\n",
    "plt.rcParams[\"figure.figsize\"] = (8,5)\n",
    "fig = plt.figure()\n",
    "# plt.figure()\n",
    "indexed_df.plot()\n",
    "plt.ylabel('Avg. Score')\n",
    "fig.suptitle('Score vs. Model')\n",
    "plt.grid()\n",
    "\n",
    "plt.savefig(\"ScoreDatasetsize.png\")\n",
    "plt.show()"
   ]
  },
  {
   "cell_type": "code",
   "execution_count": null,
   "metadata": {},
   "outputs": [],
   "source": []
  },
  {
   "cell_type": "code",
   "execution_count": 9,
   "metadata": {},
   "outputs": [],
   "source": [
    "# Create pandas dataframe from standard dev of prediction scores of various models\n",
    "SDmodel_summary = OrderedDict([ ('Model', ['LR', 'LDA', 'KNN', 'CART', 'NB', 'SVM']),\n",
    "          ('records43400', [0.001827, 0.001642, 0.001771, 0.004232, 0.004250,0.001747 ]),\n",
    "          ('records3260',  [0.012283, 0.012584, 0.012589,0.015998,0.014731,0.012701 ]),\n",
    "          ('records433', [0.071775, 0.065259, 0.090101,0.072148,0.076791,0.069790])])\n",
    "\n",
    "df5 = pd.DataFrame.from_dict(SDmodel_summary)"
   ]
  },
  {
   "cell_type": "code",
   "execution_count": 10,
   "metadata": {},
   "outputs": [
    {
     "data": {
      "text/html": [
       "<div>\n",
       "<style>\n",
       "    .dataframe thead tr:only-child th {\n",
       "        text-align: right;\n",
       "    }\n",
       "\n",
       "    .dataframe thead th {\n",
       "        text-align: left;\n",
       "    }\n",
       "\n",
       "    .dataframe tbody tr th {\n",
       "        vertical-align: top;\n",
       "    }\n",
       "</style>\n",
       "<table border=\"1\" class=\"dataframe\">\n",
       "  <thead>\n",
       "    <tr style=\"text-align: right;\">\n",
       "      <th></th>\n",
       "      <th>Model</th>\n",
       "      <th>records43400</th>\n",
       "      <th>records3260</th>\n",
       "      <th>records433</th>\n",
       "    </tr>\n",
       "  </thead>\n",
       "  <tbody>\n",
       "    <tr>\n",
       "      <th>0</th>\n",
       "      <td>LR</td>\n",
       "      <td>0.001827</td>\n",
       "      <td>0.012283</td>\n",
       "      <td>0.071775</td>\n",
       "    </tr>\n",
       "    <tr>\n",
       "      <th>1</th>\n",
       "      <td>LDA</td>\n",
       "      <td>0.001642</td>\n",
       "      <td>0.012584</td>\n",
       "      <td>0.065259</td>\n",
       "    </tr>\n",
       "    <tr>\n",
       "      <th>2</th>\n",
       "      <td>KNN</td>\n",
       "      <td>0.001771</td>\n",
       "      <td>0.012589</td>\n",
       "      <td>0.090101</td>\n",
       "    </tr>\n",
       "    <tr>\n",
       "      <th>3</th>\n",
       "      <td>CART</td>\n",
       "      <td>0.004232</td>\n",
       "      <td>0.015998</td>\n",
       "      <td>0.072148</td>\n",
       "    </tr>\n",
       "    <tr>\n",
       "      <th>4</th>\n",
       "      <td>NB</td>\n",
       "      <td>0.004250</td>\n",
       "      <td>0.014731</td>\n",
       "      <td>0.076791</td>\n",
       "    </tr>\n",
       "    <tr>\n",
       "      <th>5</th>\n",
       "      <td>SVM</td>\n",
       "      <td>0.001747</td>\n",
       "      <td>0.012701</td>\n",
       "      <td>0.069790</td>\n",
       "    </tr>\n",
       "  </tbody>\n",
       "</table>\n",
       "</div>"
      ],
      "text/plain": [
       "  Model  records43400  records3260  records433\n",
       "0    LR      0.001827     0.012283    0.071775\n",
       "1   LDA      0.001642     0.012584    0.065259\n",
       "2   KNN      0.001771     0.012589    0.090101\n",
       "3  CART      0.004232     0.015998    0.072148\n",
       "4    NB      0.004250     0.014731    0.076791\n",
       "5   SVM      0.001747     0.012701    0.069790"
      ]
     },
     "execution_count": 10,
     "metadata": {},
     "output_type": "execute_result"
    }
   ],
   "source": [
    "df5.head(6)"
   ]
  },
  {
   "cell_type": "code",
   "execution_count": 11,
   "metadata": {},
   "outputs": [
    {
     "data": {
      "text/html": [
       "<div>\n",
       "<style>\n",
       "    .dataframe thead tr:only-child th {\n",
       "        text-align: right;\n",
       "    }\n",
       "\n",
       "    .dataframe thead th {\n",
       "        text-align: left;\n",
       "    }\n",
       "\n",
       "    .dataframe tbody tr th {\n",
       "        vertical-align: top;\n",
       "    }\n",
       "</style>\n",
       "<table border=\"1\" class=\"dataframe\">\n",
       "  <thead>\n",
       "    <tr style=\"text-align: right;\">\n",
       "      <th></th>\n",
       "      <th>records43400</th>\n",
       "      <th>records3260</th>\n",
       "      <th>records433</th>\n",
       "    </tr>\n",
       "    <tr>\n",
       "      <th>Model</th>\n",
       "      <th></th>\n",
       "      <th></th>\n",
       "      <th></th>\n",
       "    </tr>\n",
       "  </thead>\n",
       "  <tbody>\n",
       "    <tr>\n",
       "      <th>LR</th>\n",
       "      <td>0.001827</td>\n",
       "      <td>0.012283</td>\n",
       "      <td>0.071775</td>\n",
       "    </tr>\n",
       "    <tr>\n",
       "      <th>LDA</th>\n",
       "      <td>0.001642</td>\n",
       "      <td>0.012584</td>\n",
       "      <td>0.065259</td>\n",
       "    </tr>\n",
       "    <tr>\n",
       "      <th>KNN</th>\n",
       "      <td>0.001771</td>\n",
       "      <td>0.012589</td>\n",
       "      <td>0.090101</td>\n",
       "    </tr>\n",
       "    <tr>\n",
       "      <th>CART</th>\n",
       "      <td>0.004232</td>\n",
       "      <td>0.015998</td>\n",
       "      <td>0.072148</td>\n",
       "    </tr>\n",
       "    <tr>\n",
       "      <th>NB</th>\n",
       "      <td>0.004250</td>\n",
       "      <td>0.014731</td>\n",
       "      <td>0.076791</td>\n",
       "    </tr>\n",
       "    <tr>\n",
       "      <th>SVM</th>\n",
       "      <td>0.001747</td>\n",
       "      <td>0.012701</td>\n",
       "      <td>0.069790</td>\n",
       "    </tr>\n",
       "  </tbody>\n",
       "</table>\n",
       "</div>"
      ],
      "text/plain": [
       "       records43400  records3260  records433\n",
       "Model                                       \n",
       "LR         0.001827     0.012283    0.071775\n",
       "LDA        0.001642     0.012584    0.065259\n",
       "KNN        0.001771     0.012589    0.090101\n",
       "CART       0.004232     0.015998    0.072148\n",
       "NB         0.004250     0.014731    0.076791\n",
       "SVM        0.001747     0.012701    0.069790"
      ]
     },
     "execution_count": 11,
     "metadata": {},
     "output_type": "execute_result"
    }
   ],
   "source": [
    "# Covert Model column to index column\n",
    "indexed_df5 = df5.set_index(['Model'])\n",
    "indexed_df5.head(6)"
   ]
  },
  {
   "cell_type": "code",
   "execution_count": 21,
   "metadata": {},
   "outputs": [
    {
     "data": {
      "text/plain": [
       "<matplotlib.figure.Figure at 0x288bc83a668>"
      ]
     },
     "metadata": {},
     "output_type": "display_data"
    },
    {
     "data": {
      "image/png": "[encoded data removed]",
      "text/plain": [
       "<matplotlib.figure.Figure at 0x288bc80bf28>"
      ]
     },
     "metadata": {},
     "output_type": "display_data"
    }
   ],
   "source": [
    "# Plot standard dev of scores for datasets of varying sizes\n",
    "plt.rcParams[\"figure.figsize\"] = (8,5)\n",
    "fig = plt.figure()\n",
    "# plt.figure()\n",
    "indexed_df5.plot()\n",
    "plt.ylabel('Score Std. Dev.')\n",
    "fig.suptitle('Score vs. Model')\n",
    "plt.grid()\n",
    "\n",
    "plt.savefig('StDevDatasize.png')\n",
    "plt.show()"
   ]
  },
  {
   "cell_type": "code",
   "execution_count": null,
   "metadata": {},
   "outputs": [],
   "source": []
  },
  {
   "cell_type": "code",
   "execution_count": 13,
   "metadata": {},
   "outputs": [],
   "source": [
    "# Create pandas dataframe frm prediction scores for various train/test combinations\n",
    "test_summary = OrderedDict([ ('Model', ['LR', 'LDA', 'KNN', 'CART', 'NB', 'SVM']),\n",
    "          ('Test10%/Train90%', [0.981848, 0.977138, 0.981183,0.963236,0.915259,0.981823]),\n",
    "          ('Test20%/Train80%',  [0.981740, 0.976354, 0.980789, 0.963393, 0.914487,0.981653]),                 \n",
    "          ('Test30%/Train70%', [0.981600, 0.976136, 0.980810, 0.963858, 0.914187,0.981633 ]),\n",
    "          ('Test40%/Train60%', [0.981490, 0.976536, 0.980760, 0.963441, 0.912212,0.981490 ])])\n",
    "df2 = pd.DataFrame.from_dict(test_summary)"
   ]
  },
  {
   "cell_type": "code",
   "execution_count": 14,
   "metadata": {},
   "outputs": [
    {
     "data": {
      "text/html": [
       "<div>\n",
       "<style>\n",
       "    .dataframe thead tr:only-child th {\n",
       "        text-align: right;\n",
       "    }\n",
       "\n",
       "    .dataframe thead th {\n",
       "        text-align: left;\n",
       "    }\n",
       "\n",
       "    .dataframe tbody tr th {\n",
       "        vertical-align: top;\n",
       "    }\n",
       "</style>\n",
       "<table border=\"1\" class=\"dataframe\">\n",
       "  <thead>\n",
       "    <tr style=\"text-align: right;\">\n",
       "      <th></th>\n",
       "      <th>Model</th>\n",
       "      <th>Test10%/Train90%</th>\n",
       "      <th>Test20%/Train80%</th>\n",
       "      <th>Test30%/Train70%</th>\n",
       "      <th>Test40%/Train60%</th>\n",
       "    </tr>\n",
       "  </thead>\n",
       "  <tbody>\n",
       "    <tr>\n",
       "      <th>0</th>\n",
       "      <td>LR</td>\n",
       "      <td>0.981848</td>\n",
       "      <td>0.981740</td>\n",
       "      <td>0.981600</td>\n",
       "      <td>0.981490</td>\n",
       "    </tr>\n",
       "    <tr>\n",
       "      <th>1</th>\n",
       "      <td>LDA</td>\n",
       "      <td>0.977138</td>\n",
       "      <td>0.976354</td>\n",
       "      <td>0.976136</td>\n",
       "      <td>0.976536</td>\n",
       "    </tr>\n",
       "    <tr>\n",
       "      <th>2</th>\n",
       "      <td>KNN</td>\n",
       "      <td>0.981183</td>\n",
       "      <td>0.980789</td>\n",
       "      <td>0.980810</td>\n",
       "      <td>0.980760</td>\n",
       "    </tr>\n",
       "    <tr>\n",
       "      <th>3</th>\n",
       "      <td>CART</td>\n",
       "      <td>0.963236</td>\n",
       "      <td>0.963393</td>\n",
       "      <td>0.963858</td>\n",
       "      <td>0.963441</td>\n",
       "    </tr>\n",
       "    <tr>\n",
       "      <th>4</th>\n",
       "      <td>NB</td>\n",
       "      <td>0.915259</td>\n",
       "      <td>0.914487</td>\n",
       "      <td>0.914187</td>\n",
       "      <td>0.912212</td>\n",
       "    </tr>\n",
       "    <tr>\n",
       "      <th>5</th>\n",
       "      <td>SVM</td>\n",
       "      <td>0.981823</td>\n",
       "      <td>0.981653</td>\n",
       "      <td>0.981633</td>\n",
       "      <td>0.981490</td>\n",
       "    </tr>\n",
       "  </tbody>\n",
       "</table>\n",
       "</div>"
      ],
      "text/plain": [
       "  Model  Test10%/Train90%  Test20%/Train80%  Test30%/Train70%  \\\n",
       "0    LR          0.981848          0.981740          0.981600   \n",
       "1   LDA          0.977138          0.976354          0.976136   \n",
       "2   KNN          0.981183          0.980789          0.980810   \n",
       "3  CART          0.963236          0.963393          0.963858   \n",
       "4    NB          0.915259          0.914487          0.914187   \n",
       "5   SVM          0.981823          0.981653          0.981633   \n",
       "\n",
       "   Test40%/Train60%  \n",
       "0          0.981490  \n",
       "1          0.976536  \n",
       "2          0.980760  \n",
       "3          0.963441  \n",
       "4          0.912212  \n",
       "5          0.981490  "
      ]
     },
     "execution_count": 14,
     "metadata": {},
     "output_type": "execute_result"
    }
   ],
   "source": [
    "df2.head(6)"
   ]
  },
  {
   "cell_type": "code",
   "execution_count": 15,
   "metadata": {},
   "outputs": [
    {
     "data": {
      "text/html": [
       "<div>\n",
       "<style>\n",
       "    .dataframe thead tr:only-child th {\n",
       "        text-align: right;\n",
       "    }\n",
       "\n",
       "    .dataframe thead th {\n",
       "        text-align: left;\n",
       "    }\n",
       "\n",
       "    .dataframe tbody tr th {\n",
       "        vertical-align: top;\n",
       "    }\n",
       "</style>\n",
       "<table border=\"1\" class=\"dataframe\">\n",
       "  <thead>\n",
       "    <tr style=\"text-align: right;\">\n",
       "      <th></th>\n",
       "      <th>Test10%/Train90%</th>\n",
       "      <th>Test20%/Train80%</th>\n",
       "      <th>Test30%/Train70%</th>\n",
       "      <th>Test40%/Train60%</th>\n",
       "    </tr>\n",
       "    <tr>\n",
       "      <th>Model</th>\n",
       "      <th></th>\n",
       "      <th></th>\n",
       "      <th></th>\n",
       "      <th></th>\n",
       "    </tr>\n",
       "  </thead>\n",
       "  <tbody>\n",
       "    <tr>\n",
       "      <th>LR</th>\n",
       "      <td>0.981848</td>\n",
       "      <td>0.981740</td>\n",
       "      <td>0.981600</td>\n",
       "      <td>0.981490</td>\n",
       "    </tr>\n",
       "    <tr>\n",
       "      <th>LDA</th>\n",
       "      <td>0.977138</td>\n",
       "      <td>0.976354</td>\n",
       "      <td>0.976136</td>\n",
       "      <td>0.976536</td>\n",
       "    </tr>\n",
       "    <tr>\n",
       "      <th>KNN</th>\n",
       "      <td>0.981183</td>\n",
       "      <td>0.980789</td>\n",
       "      <td>0.980810</td>\n",
       "      <td>0.980760</td>\n",
       "    </tr>\n",
       "    <tr>\n",
       "      <th>CART</th>\n",
       "      <td>0.963236</td>\n",
       "      <td>0.963393</td>\n",
       "      <td>0.963858</td>\n",
       "      <td>0.963441</td>\n",
       "    </tr>\n",
       "    <tr>\n",
       "      <th>NB</th>\n",
       "      <td>0.915259</td>\n",
       "      <td>0.914487</td>\n",
       "      <td>0.914187</td>\n",
       "      <td>0.912212</td>\n",
       "    </tr>\n",
       "    <tr>\n",
       "      <th>SVM</th>\n",
       "      <td>0.981823</td>\n",
       "      <td>0.981653</td>\n",
       "      <td>0.981633</td>\n",
       "      <td>0.981490</td>\n",
       "    </tr>\n",
       "  </tbody>\n",
       "</table>\n",
       "</div>"
      ],
      "text/plain": [
       "       Test10%/Train90%  Test20%/Train80%  Test30%/Train70%  Test40%/Train60%\n",
       "Model                                                                        \n",
       "LR             0.981848          0.981740          0.981600          0.981490\n",
       "LDA            0.977138          0.976354          0.976136          0.976536\n",
       "KNN            0.981183          0.980789          0.980810          0.980760\n",
       "CART           0.963236          0.963393          0.963858          0.963441\n",
       "NB             0.915259          0.914487          0.914187          0.912212\n",
       "SVM            0.981823          0.981653          0.981633          0.981490"
      ]
     },
     "execution_count": 15,
     "metadata": {},
     "output_type": "execute_result"
    }
   ],
   "source": [
    "# Change Model column into index column\n",
    "indexed_df2 = df2.set_index(['Model'])\n",
    "indexed_df2.head(6)"
   ]
  },
  {
   "cell_type": "code",
   "execution_count": 22,
   "metadata": {},
   "outputs": [
    {
     "data": {
      "text/plain": [
       "<matplotlib.figure.Figure at 0x288bc842320>"
      ]
     },
     "metadata": {},
     "output_type": "display_data"
    },
    {
     "data": {
      "image/png": "[encoded data removed]",
      "text/plain": [
       "<matplotlib.figure.Figure at 0x288bc8ad128>"
      ]
     },
     "metadata": {},
     "output_type": "display_data"
    }
   ],
   "source": [
    "# Plot avg prediction score of various models using different train/test combinations\n",
    "plt.rcParams[\"figure.figsize\"] = (8,5)\n",
    "plt.figure()\n",
    "indexed_df2.plot()\n",
    "plt.grid()\n",
    "plt.ylabel('Avg. Score')\n",
    "\n",
    "plt.savefig('Score_train_test_size.png')\n",
    "plt.show()"
   ]
  },
  {
   "cell_type": "code",
   "execution_count": null,
   "metadata": {},
   "outputs": [],
   "source": []
  },
  {
   "cell_type": "code",
   "execution_count": 17,
   "metadata": {},
   "outputs": [],
   "source": [
    "# Create pandas dataframe from standard dev of prediction scores of various models and train/test combinations\n",
    "SDtest_summary = OrderedDict([ ('Model', ['LR', 'LDA', 'KNN', 'CART', 'NB', 'SVM']),\n",
    "          ('Test10%/Train90%', [0.001794, 0.002089, 0.001546,0.002475,0.004512,0.001796]),\n",
    "          ('Test20%/Train80%',  [0.001827, .001222, 0.001651,0.001567 ,0.004655,0.001827]),                 \n",
    "          ('Test30%/Train70%', [0.002205, 0.002104, 0.002203, 0.002212, 0.004340,0.002256 ]),\n",
    "          ('Test40%/Train60%', [0.002552, 0.003108, 0.002370, 0.001903, 0.005634,0.002552 ])])\n",
    "df3 = pd.DataFrame.from_dict(SDtest_summary)"
   ]
  },
  {
   "cell_type": "code",
   "execution_count": 18,
   "metadata": {},
   "outputs": [
    {
     "data": {
      "text/html": [
       "<div>\n",
       "<style>\n",
       "    .dataframe thead tr:only-child th {\n",
       "        text-align: right;\n",
       "    }\n",
       "\n",
       "    .dataframe thead th {\n",
       "        text-align: left;\n",
       "    }\n",
       "\n",
       "    .dataframe tbody tr th {\n",
       "        vertical-align: top;\n",
       "    }\n",
       "</style>\n",
       "<table border=\"1\" class=\"dataframe\">\n",
       "  <thead>\n",
       "    <tr style=\"text-align: right;\">\n",
       "      <th></th>\n",
       "      <th>Model</th>\n",
       "      <th>Test10%/Train90%</th>\n",
       "      <th>Test20%/Train80%</th>\n",
       "      <th>Test30%/Train70%</th>\n",
       "      <th>Test40%/Train60%</th>\n",
       "    </tr>\n",
       "  </thead>\n",
       "  <tbody>\n",
       "    <tr>\n",
       "      <th>0</th>\n",
       "      <td>LR</td>\n",
       "      <td>0.001794</td>\n",
       "      <td>0.001827</td>\n",
       "      <td>0.002205</td>\n",
       "      <td>0.002552</td>\n",
       "    </tr>\n",
       "    <tr>\n",
       "      <th>1</th>\n",
       "      <td>LDA</td>\n",
       "      <td>0.002089</td>\n",
       "      <td>0.001222</td>\n",
       "      <td>0.002104</td>\n",
       "      <td>0.003108</td>\n",
       "    </tr>\n",
       "    <tr>\n",
       "      <th>2</th>\n",
       "      <td>KNN</td>\n",
       "      <td>0.001546</td>\n",
       "      <td>0.001651</td>\n",
       "      <td>0.002203</td>\n",
       "      <td>0.002370</td>\n",
       "    </tr>\n",
       "    <tr>\n",
       "      <th>3</th>\n",
       "      <td>CART</td>\n",
       "      <td>0.002475</td>\n",
       "      <td>0.001567</td>\n",
       "      <td>0.002212</td>\n",
       "      <td>0.001903</td>\n",
       "    </tr>\n",
       "    <tr>\n",
       "      <th>4</th>\n",
       "      <td>NB</td>\n",
       "      <td>0.004512</td>\n",
       "      <td>0.004655</td>\n",
       "      <td>0.004340</td>\n",
       "      <td>0.005634</td>\n",
       "    </tr>\n",
       "    <tr>\n",
       "      <th>5</th>\n",
       "      <td>SVM</td>\n",
       "      <td>0.001796</td>\n",
       "      <td>0.001827</td>\n",
       "      <td>0.002256</td>\n",
       "      <td>0.002552</td>\n",
       "    </tr>\n",
       "  </tbody>\n",
       "</table>\n",
       "</div>"
      ],
      "text/plain": [
       "  Model  Test10%/Train90%  Test20%/Train80%  Test30%/Train70%  \\\n",
       "0    LR          0.001794          0.001827          0.002205   \n",
       "1   LDA          0.002089          0.001222          0.002104   \n",
       "2   KNN          0.001546          0.001651          0.002203   \n",
       "3  CART          0.002475          0.001567          0.002212   \n",
       "4    NB          0.004512          0.004655          0.004340   \n",
       "5   SVM          0.001796          0.001827          0.002256   \n",
       "\n",
       "   Test40%/Train60%  \n",
       "0          0.002552  \n",
       "1          0.003108  \n",
       "2          0.002370  \n",
       "3          0.001903  \n",
       "4          0.005634  \n",
       "5          0.002552  "
      ]
     },
     "execution_count": 18,
     "metadata": {},
     "output_type": "execute_result"
    }
   ],
   "source": [
    "df3.head(6)"
   ]
  },
  {
   "cell_type": "code",
   "execution_count": 19,
   "metadata": {},
   "outputs": [
    {
     "data": {
      "text/html": [
       "<div>\n",
       "<style>\n",
       "    .dataframe thead tr:only-child th {\n",
       "        text-align: right;\n",
       "    }\n",
       "\n",
       "    .dataframe thead th {\n",
       "        text-align: left;\n",
       "    }\n",
       "\n",
       "    .dataframe tbody tr th {\n",
       "        vertical-align: top;\n",
       "    }\n",
       "</style>\n",
       "<table border=\"1\" class=\"dataframe\">\n",
       "  <thead>\n",
       "    <tr style=\"text-align: right;\">\n",
       "      <th></th>\n",
       "      <th>Test10%/Train90%</th>\n",
       "      <th>Test20%/Train80%</th>\n",
       "      <th>Test30%/Train70%</th>\n",
       "      <th>Test40%/Train60%</th>\n",
       "    </tr>\n",
       "    <tr>\n",
       "      <th>Model</th>\n",
       "      <th></th>\n",
       "      <th></th>\n",
       "      <th></th>\n",
       "      <th></th>\n",
       "    </tr>\n",
       "  </thead>\n",
       "  <tbody>\n",
       "    <tr>\n",
       "      <th>LR</th>\n",
       "      <td>0.001794</td>\n",
       "      <td>0.001827</td>\n",
       "      <td>0.002205</td>\n",
       "      <td>0.002552</td>\n",
       "    </tr>\n",
       "    <tr>\n",
       "      <th>LDA</th>\n",
       "      <td>0.002089</td>\n",
       "      <td>0.001222</td>\n",
       "      <td>0.002104</td>\n",
       "      <td>0.003108</td>\n",
       "    </tr>\n",
       "    <tr>\n",
       "      <th>KNN</th>\n",
       "      <td>0.001546</td>\n",
       "      <td>0.001651</td>\n",
       "      <td>0.002203</td>\n",
       "      <td>0.002370</td>\n",
       "    </tr>\n",
       "    <tr>\n",
       "      <th>CART</th>\n",
       "      <td>0.002475</td>\n",
       "      <td>0.001567</td>\n",
       "      <td>0.002212</td>\n",
       "      <td>0.001903</td>\n",
       "    </tr>\n",
       "    <tr>\n",
       "      <th>NB</th>\n",
       "      <td>0.004512</td>\n",
       "      <td>0.004655</td>\n",
       "      <td>0.004340</td>\n",
       "      <td>0.005634</td>\n",
       "    </tr>\n",
       "    <tr>\n",
       "      <th>SVM</th>\n",
       "      <td>0.001796</td>\n",
       "      <td>0.001827</td>\n",
       "      <td>0.002256</td>\n",
       "      <td>0.002552</td>\n",
       "    </tr>\n",
       "  </tbody>\n",
       "</table>\n",
       "</div>"
      ],
      "text/plain": [
       "       Test10%/Train90%  Test20%/Train80%  Test30%/Train70%  Test40%/Train60%\n",
       "Model                                                                        \n",
       "LR             0.001794          0.001827          0.002205          0.002552\n",
       "LDA            0.002089          0.001222          0.002104          0.003108\n",
       "KNN            0.001546          0.001651          0.002203          0.002370\n",
       "CART           0.002475          0.001567          0.002212          0.001903\n",
       "NB             0.004512          0.004655          0.004340          0.005634\n",
       "SVM            0.001796          0.001827          0.002256          0.002552"
      ]
     },
     "execution_count": 19,
     "metadata": {},
     "output_type": "execute_result"
    }
   ],
   "source": [
    "# Change model to index column\n",
    "indexed_df3 = df3.set_index(['Model'])\n",
    "indexed_df3.head(6)"
   ]
  },
  {
   "cell_type": "code",
   "execution_count": 23,
   "metadata": {},
   "outputs": [
    {
     "data": {
      "text/plain": [
       "<matplotlib.figure.Figure at 0x288bc923c18>"
      ]
     },
     "metadata": {},
     "output_type": "display_data"
    },
    {
     "data": {
      "image/png": "[encoded data removed]",
      "text/plain": [
       "<matplotlib.figure.Figure at 0x288bc842940>"
      ]
     },
     "metadata": {},
     "output_type": "display_data"
    }
   ],
   "source": [
    "# Plot standard dev of the scores for various models and various train/test combinations\n",
    "plt.rcParams[\"figure.figsize\"] = (8,5)\n",
    "plt.figure()\n",
    "indexed_df3.plot()\n",
    "plt.grid()\n",
    "plt.ylabel('Score Std. Dev.')\n",
    "\n",
    "plt.savefig('StDev_train_test_size.png')\n",
    "plt.show()"
   ]
  },
  {
   "cell_type": "code",
   "execution_count": null,
   "metadata": {},
   "outputs": [],
   "source": []
  }
 ],
 "metadata": {
  "kernelspec": {
   "display_name": "Python 3",
   "language": "python",
   "name": "python3"
  },
  "language_info": {
   "codemirror_mode": {
    "name": "ipython",
    "version": 3
   },
   "file_extension": ".py",
   "mimetype": "text/x-python",
   "name": "python",
   "nbconvert_exporter": "python",
   "pygments_lexer": "ipython3",
   "version": "3.6.3"
  }
 },
 "nbformat": 4,
 "nbformat_minor": 2
}
